{
  "nbformat": 4,
  "nbformat_minor": 0,
  "metadata": {
    "colab": {
      "name": "Python Basic Day4.ipynb",
      "provenance": [],
      "authorship_tag": "ABX9TyPHNfkWW9NSwgu8ArYZaLiN",
      "include_colab_link": true
    },
    "kernelspec": {
      "name": "python3",
      "display_name": "Python 3"
    },
    "language_info": {
      "name": "python"
    }
  },
  "cells": [
    {
      "cell_type": "markdown",
      "metadata": {
        "id": "view-in-github",
        "colab_type": "text"
      },
      "source": [
        "<a href=\"https://colab.research.google.com/github/keunsooyoon/pythonbasicclass2/blob/main/Python_Basic_Day4.ipynb\" target=\"_parent\"><img src=\"https://colab.research.google.com/assets/colab-badge.svg\" alt=\"Open In Colab\"/></a>"
      ]
    },
    {
      "cell_type": "code",
      "execution_count": 2,
      "metadata": {
        "id": "sLqiaCbwuPsX",
        "colab": {
          "base_uri": "https://localhost:8080/"
        },
        "outputId": "8717071d-939b-4b00-9791-a7f7f7e48dd3"
      },
      "outputs": [
        {
          "output_type": "stream",
          "name": "stdout",
          "text": [
            "정수를 입력하세요 >>>12\n",
            "<class 'str'>\n"
          ]
        }
      ],
      "source": [
        "# input() 함수를 사용할 때 주의할 점\n",
        "# input()은 모든 입력을 str(문자열)로 저장한다는 점이다. \n",
        "# 따라서 숫자를 입력해도 문자로 받아들인다. \n",
        "\n",
        "n = input('정수를 입력하세요 >>>')\n",
        "print(type(n))"
      ]
    },
    {
      "cell_type": "code",
      "source": [
        "n = int(input('정수를 입력하세요 >>>')) # 형변환이 필요하다. casting\n",
        "print(type(n))"
      ],
      "metadata": {
        "colab": {
          "base_uri": "https://localhost:8080/"
        },
        "id": "6RUuENd70OIr",
        "outputId": "f19947d4-0179-455c-9609-d10725b4a306"
      },
      "execution_count": 3,
      "outputs": [
        {
          "output_type": "stream",
          "name": "stdout",
          "text": [
            "정수를 입력하세요 >>>12\n",
            "<class 'int'>\n"
          ]
        }
      ]
    },
    {
      "cell_type": "code",
      "source": [
        "price = 50000\n",
        "n = int(input('할부 개월 입력 >>>'))\n",
        "print('매달 내는 돈은 {}입니다.'.format(price/n))"
      ],
      "metadata": {
        "colab": {
          "base_uri": "https://localhost:8080/"
        },
        "id": "qzs2_9sY0eyG",
        "outputId": "51829199-aa75-48f9-b3bf-2747e3e62d63"
      },
      "execution_count": 4,
      "outputs": [
        {
          "output_type": "stream",
          "name": "stdout",
          "text": [
            "할부 개월 입력 >>>10\n",
            "매달 내는 돈은 5000.0입니다.\n"
          ]
        }
      ]
    },
    {
      "cell_type": "code",
      "source": [
        ""
      ],
      "metadata": {
        "id": "d9JBAVQX08Mx"
      },
      "execution_count": null,
      "outputs": []
    },
    {
      "cell_type": "code",
      "source": [
        ""
      ],
      "metadata": {
        "id": "r-qh1Yh008lF"
      },
      "execution_count": null,
      "outputs": []
    },
    {
      "cell_type": "code",
      "source": [
        "price = 50000\n",
        "n = input('할부 개월 입력 >>>')\n",
        "print('매달 내는 돈은 {}입니다.'.format(price/n))"
      ],
      "metadata": {
        "colab": {
          "base_uri": "https://localhost:8080/",
          "height": 229
        },
        "id": "jryK73gN0wKp",
        "outputId": "46bb251a-12b4-456e-e540-3db5f838543e"
      },
      "execution_count": 5,
      "outputs": [
        {
          "name": "stdout",
          "output_type": "stream",
          "text": [
            "할부 개월 입력 >>>10\n"
          ]
        },
        {
          "output_type": "error",
          "ename": "TypeError",
          "evalue": "ignored",
          "traceback": [
            "\u001b[0;31m---------------------------------------------------------------------------\u001b[0m",
            "\u001b[0;31mTypeError\u001b[0m                                 Traceback (most recent call last)",
            "\u001b[0;32m<ipython-input-5-dc00b4818ebd>\u001b[0m in \u001b[0;36m<module>\u001b[0;34m()\u001b[0m\n\u001b[1;32m      1\u001b[0m \u001b[0mprice\u001b[0m \u001b[0;34m=\u001b[0m \u001b[0;36m50000\u001b[0m\u001b[0;34m\u001b[0m\u001b[0;34m\u001b[0m\u001b[0m\n\u001b[1;32m      2\u001b[0m \u001b[0mn\u001b[0m \u001b[0;34m=\u001b[0m \u001b[0minput\u001b[0m\u001b[0;34m(\u001b[0m\u001b[0;34m'할부 개월 입력 >>>'\u001b[0m\u001b[0;34m)\u001b[0m\u001b[0;34m\u001b[0m\u001b[0;34m\u001b[0m\u001b[0m\n\u001b[0;32m----> 3\u001b[0;31m \u001b[0mprint\u001b[0m\u001b[0;34m(\u001b[0m\u001b[0;34m'매달 내는 돈은 {}입니다.'\u001b[0m\u001b[0;34m.\u001b[0m\u001b[0mformat\u001b[0m\u001b[0;34m(\u001b[0m\u001b[0mprice\u001b[0m\u001b[0;34m/\u001b[0m\u001b[0mn\u001b[0m\u001b[0;34m)\u001b[0m\u001b[0;34m)\u001b[0m\u001b[0;34m\u001b[0m\u001b[0;34m\u001b[0m\u001b[0m\n\u001b[0m",
            "\u001b[0;31mTypeError\u001b[0m: unsupported operand type(s) for /: 'int' and 'str'"
          ]
        }
      ]
    },
    {
      "cell_type": "code",
      "source": [
        "# 1\n",
        "a = input('첫 번째 실수를 입력하세요 >>>')\n",
        "b = input('두 번째 실수를 입력하세요 >>>')\n",
        "\n",
        "print(f'{a}와 {b}의 합은 {a+b}입니다.')"
      ],
      "metadata": {
        "colab": {
          "base_uri": "https://localhost:8080/"
        },
        "id": "T78AtcQ309Bh",
        "outputId": "eeedf500-925a-464c-c7f6-d88674f233d5"
      },
      "execution_count": 6,
      "outputs": [
        {
          "output_type": "stream",
          "name": "stdout",
          "text": [
            "첫 번째 실수를 입력하세요 >>>1\n",
            "두 번째 실수를 입력하세요 >>>2\n",
            "1와 2의 합은 12입니다.\n"
          ]
        }
      ]
    },
    {
      "cell_type": "code",
      "source": [
        "a = float(input('첫 번째 실수를 입력하세요 >>>'))\n",
        "b = float(input('두 번째 실수를 입력하세요 >>>'))\n",
        "\n",
        "print(f'{a}와 {b}의 합은 {a+b}입니다.')"
      ],
      "metadata": {
        "colab": {
          "base_uri": "https://localhost:8080/"
        },
        "id": "hcJK8bLV2Mfv",
        "outputId": "5c544e5a-50af-427d-be25-cc38febf0853"
      },
      "execution_count": 7,
      "outputs": [
        {
          "output_type": "stream",
          "name": "stdout",
          "text": [
            "첫 번째 실수를 입력하세요 >>>1.23\n",
            "두 번째 실수를 입력하세요 >>>2.34\n",
            "1.23와 2.34의 합은 3.57입니다.\n"
          ]
        }
      ]
    },
    {
      "cell_type": "code",
      "source": [
        "# 2\n",
        "\n",
        "month = [31,28,31,30,31,30,31,31,30,31,30,31]\n",
        "#        0   1  2  3  index는 0에서 시작한다.        \n",
        "a = int(input('1~12 사이의 월을 입력하세요 >>>'))\n",
        "print(f'{a}월은 {month[a-1]}일까지 있습니다.')"
      ],
      "metadata": {
        "colab": {
          "base_uri": "https://localhost:8080/"
        },
        "id": "Oc59NAo10raI",
        "outputId": "bde1a900-cd20-47c1-dc86-a6c16a39fc01"
      },
      "execution_count": 8,
      "outputs": [
        {
          "output_type": "stream",
          "name": "stdout",
          "text": [
            "1~12 사이의 월을 입력하세요 >>>2\n",
            "2월은 28일까지 있습니다.\n"
          ]
        }
      ]
    },
    {
      "cell_type": "code",
      "source": [
        "# 3\n",
        "english_dict = {\n",
        "    'flower':'꽃',\n",
        "    'fly':'날다',\n",
        "    'floor':'바닥'\n",
        "}\n",
        "word = input('영어 단어를 입력하세요 >>>')\n",
        "print(f'{word} : {english_dict[word]}')\n"
      ],
      "metadata": {
        "colab": {
          "base_uri": "https://localhost:8080/"
        },
        "id": "95dIFpx44UWP",
        "outputId": "f4fa64ee-6303-4ecc-d644-5772cf8ff687"
      },
      "execution_count": 9,
      "outputs": [
        {
          "output_type": "stream",
          "name": "stdout",
          "text": [
            "영어 단어를 입력하세요 >>>flower\n",
            "flower : 꽃\n"
          ]
        }
      ]
    },
    {
      "cell_type": "code",
      "source": [
        "# 복합 대입 연산자. \n",
        "a = 1\n",
        "print(a)\n",
        "\n",
        "#a = a + 1   #자기 자신에 1을 증가    \n",
        "a += 1       #자기 자신에 1을 증가\n",
        "print(a)\n",
        "a += 1\n",
        "print(a)\n",
        "a = a - 1     #자기 자신에 1을 감소\n",
        "print(a)\n",
        "a -= 1     #자기 자신에 1을 감소\n",
        "print(a)"
      ],
      "metadata": {
        "colab": {
          "base_uri": "https://localhost:8080/"
        },
        "id": "zKxPXSfx-KeI",
        "outputId": "1db9935b-a7bf-4ef2-a1c9-0670c9f00b30"
      },
      "execution_count": 13,
      "outputs": [
        {
          "output_type": "stream",
          "name": "stdout",
          "text": [
            "1\n",
            "2\n",
            "3\n",
            "2\n"
          ]
        }
      ]
    },
    {
      "cell_type": "code",
      "source": [
        "a, b = 10, 20\n",
        "print('a = %d, b = %d' % (a,b))\n",
        "\n",
        "a, b = b, a\n",
        "print('a = %d, b = %d' % (a,b))"
      ],
      "metadata": {
        "colab": {
          "base_uri": "https://localhost:8080/"
        },
        "id": "1dQ5e4l-_6Hk",
        "outputId": "d2675b3c-d1c6-45c6-fb87-982c349f7321"
      },
      "execution_count": 14,
      "outputs": [
        {
          "output_type": "stream",
          "name": "stdout",
          "text": [
            "a = 10, b = 20\n",
            "a = 20, b = 10\n"
          ]
        }
      ]
    },
    {
      "cell_type": "code",
      "source": [
        "a = 10\n",
        "b = 20\n",
        "\n",
        "t = a\n",
        "a = b\n",
        "b = t\n",
        "print('a = %d, b = %d' % (a,b))"
      ],
      "metadata": {
        "colab": {
          "base_uri": "https://localhost:8080/"
        },
        "id": "at37snVDAZIA",
        "outputId": "dbcc523d-118d-4aea-e9c0-bf0e29df5cd8"
      },
      "execution_count": 15,
      "outputs": [
        {
          "output_type": "stream",
          "name": "stdout",
          "text": [
            "a = 20, b = 10\n"
          ]
        }
      ]
    },
    {
      "cell_type": "code",
      "source": [
        "1 == 1"
      ],
      "metadata": {
        "colab": {
          "base_uri": "https://localhost:8080/"
        },
        "id": "i8D2LGeXBIFI",
        "outputId": "0fff92e6-45c0-4037-df19-cbdb2fd3b579"
      },
      "execution_count": 16,
      "outputs": [
        {
          "output_type": "execute_result",
          "data": {
            "text/plain": [
              "True"
            ]
          },
          "metadata": {},
          "execution_count": 16
        }
      ]
    },
    {
      "cell_type": "code",
      "source": [
        "1 != 1"
      ],
      "metadata": {
        "colab": {
          "base_uri": "https://localhost:8080/"
        },
        "id": "przDKgxKBKsd",
        "outputId": "51737eb6-1115-4cda-a828-4ce8239ed8ed"
      },
      "execution_count": 17,
      "outputs": [
        {
          "output_type": "execute_result",
          "data": {
            "text/plain": [
              "False"
            ]
          },
          "metadata": {},
          "execution_count": 17
        }
      ]
    },
    {
      "cell_type": "code",
      "source": [
        "# 시퀀스 연산자 : 순서가 있는 구조 시퀀스(리스트, 튜플, 문자열, range) 에서 사용된다.\n",
        "\n",
        "[1,3,5] + [2,4,6]"
      ],
      "metadata": {
        "colab": {
          "base_uri": "https://localhost:8080/"
        },
        "id": "xQf9aJPABOz4",
        "outputId": "de327395-695b-4802-e717-8d83e884e3bb"
      },
      "execution_count": 19,
      "outputs": [
        {
          "output_type": "execute_result",
          "data": {
            "text/plain": [
              "[1, 3, 5, 2, 4, 6]"
            ]
          },
          "metadata": {},
          "execution_count": 19
        }
      ]
    },
    {
      "cell_type": "code",
      "source": [
        ""
      ],
      "metadata": {
        "id": "rxhC2r5mCytj"
      },
      "execution_count": null,
      "outputs": []
    },
    {
      "cell_type": "code",
      "source": [
        "'hello' + ' ' + 'python'"
      ],
      "metadata": {
        "colab": {
          "base_uri": "https://localhost:8080/",
          "height": 35
        },
        "id": "_uOKyHPHCFcP",
        "outputId": "c4404f86-66c7-4d2f-d7f5-8cb1fc1fe126"
      },
      "execution_count": 20,
      "outputs": [
        {
          "output_type": "execute_result",
          "data": {
            "application/vnd.google.colaboratory.intrinsic+json": {
              "type": "string"
            },
            "text/plain": [
              "'hello python'"
            ]
          },
          "metadata": {},
          "execution_count": 20
        }
      ]
    },
    {
      "cell_type": "code",
      "source": [
        ""
      ],
      "metadata": {
        "id": "l4D-jXjDCcVa"
      },
      "execution_count": null,
      "outputs": []
    },
    {
      "cell_type": "code",
      "source": [
        "[1,3,5] * 2"
      ],
      "metadata": {
        "colab": {
          "base_uri": "https://localhost:8080/"
        },
        "id": "DxGYODcVCSSF",
        "outputId": "9bcbed04-b324-4918-97ef-703f1620c0ee"
      },
      "execution_count": 21,
      "outputs": [
        {
          "output_type": "execute_result",
          "data": {
            "text/plain": [
              "[1, 3, 5, 1, 3, 5]"
            ]
          },
          "metadata": {},
          "execution_count": 21
        }
      ]
    },
    {
      "cell_type": "code",
      "source": [
        "'-' * 50"
      ],
      "metadata": {
        "colab": {
          "base_uri": "https://localhost:8080/",
          "height": 35
        },
        "id": "bAGWRxiMCZ1k",
        "outputId": "44d518c9-408e-4800-f707-3661c97dc6bd"
      },
      "execution_count": 24,
      "outputs": [
        {
          "output_type": "execute_result",
          "data": {
            "application/vnd.google.colaboratory.intrinsic+json": {
              "type": "string"
            },
            "text/plain": [
              "'--------------------------------------------------'"
            ]
          },
          "metadata": {},
          "execution_count": 24
        }
      ]
    },
    {
      "cell_type": "code",
      "source": [
        "# 멤버쉽 연산자\n",
        "5 in [1,2,3,4,5]"
      ],
      "metadata": {
        "colab": {
          "base_uri": "https://localhost:8080/"
        },
        "id": "oF0aTCAGCzP9",
        "outputId": "930df98f-0118-48f2-f2f5-07fc315efa8c"
      },
      "execution_count": 25,
      "outputs": [
        {
          "output_type": "execute_result",
          "data": {
            "text/plain": [
              "True"
            ]
          },
          "metadata": {},
          "execution_count": 25
        }
      ]
    },
    {
      "cell_type": "code",
      "source": [
        "5 not in [1,2,3,4,5]"
      ],
      "metadata": {
        "colab": {
          "base_uri": "https://localhost:8080/"
        },
        "id": "Pp6cuFBZDOAp",
        "outputId": "e0741083-1737-4bea-a5aa-af47eabf0052"
      },
      "execution_count": 26,
      "outputs": [
        {
          "output_type": "execute_result",
          "data": {
            "text/plain": [
              "False"
            ]
          },
          "metadata": {},
          "execution_count": 26
        }
      ]
    },
    {
      "cell_type": "code",
      "source": [
        "'a' in 'apple'"
      ],
      "metadata": {
        "colab": {
          "base_uri": "https://localhost:8080/"
        },
        "id": "jSfF1fAQDVRW",
        "outputId": "fe3b9132-b0a4-46e0-e254-3774bf6abe91"
      },
      "execution_count": 28,
      "outputs": [
        {
          "output_type": "execute_result",
          "data": {
            "text/plain": [
              "True"
            ]
          },
          "metadata": {},
          "execution_count": 28
        }
      ]
    },
    {
      "cell_type": "code",
      "source": [
        "'a' in {'a':'apple', 'b':'banana'}"
      ],
      "metadata": {
        "colab": {
          "base_uri": "https://localhost:8080/"
        },
        "id": "9U3tccYMDhjp",
        "outputId": "6f59c078-14bb-442d-c83a-e3518eee3253"
      },
      "execution_count": 30,
      "outputs": [
        {
          "output_type": "execute_result",
          "data": {
            "text/plain": [
              "True"
            ]
          },
          "metadata": {},
          "execution_count": 30
        }
      ]
    },
    {
      "cell_type": "code",
      "source": [
        "# 응용예제 p 85\n",
        "\n",
        "# 1\n",
        "no = input('10~99사이의 정수를 입력하세요 >>>')\n",
        "\n",
        "print(f'십의 자리 : {no[0]}')\n",
        "print(f'일의 자리 : {no[1]}')"
      ],
      "metadata": {
        "colab": {
          "base_uri": "https://localhost:8080/"
        },
        "id": "RXixbMIyEsWf",
        "outputId": "b840904a-4149-4ffd-f9e9-1f627541b996"
      },
      "execution_count": 31,
      "outputs": [
        {
          "output_type": "stream",
          "name": "stdout",
          "text": [
            "10~99사이의 정수를 입력하세요 >>>45\n",
            "십의 자리 : 4\n",
            "일의 자리 : 5\n"
          ]
        }
      ]
    },
    {
      "cell_type": "code",
      "source": [
        "no = int(input('10~99사이의 정수를 입력하세요 >>>'))\n",
        "\n",
        "print(f'십의 자리 : {no//10}')\n",
        "print(f'일의 자리 : {no%10}')"
      ],
      "metadata": {
        "colab": {
          "base_uri": "https://localhost:8080/"
        },
        "id": "akrWOtqHFQ79",
        "outputId": "966efedf-942e-4704-e5fd-af7802426469"
      },
      "execution_count": 32,
      "outputs": [
        {
          "output_type": "stream",
          "name": "stdout",
          "text": [
            "10~99사이의 정수를 입력하세요 >>>45\n",
            "십의 자리 : 4\n",
            "일의 자리 : 5\n"
          ]
        }
      ]
    },
    {
      "cell_type": "code",
      "source": [
        "# 2\n",
        "\n",
        "cho = int(input('초를 입력하세요 >>>'))\n",
        "\n",
        "print(f'변환 결과는 {cho // 3600}시간 {cho % 3600  // 60}분 {cho % 60}초 입니다.')\n",
        "\n",
        "# cho = 3690\n",
        "# # 1시간 = 60분 = 1 * 60 * 60 초 = 3600 초\n",
        "# hour = cho // 3600  # 1시간\n",
        "# minute = cho % 3600  // 60  # 1분\n",
        "# second = cho % 60\n",
        "# print(second)"
      ],
      "metadata": {
        "colab": {
          "base_uri": "https://localhost:8080/"
        },
        "id": "WnwWSJwdF7UB",
        "outputId": "3f62c7a8-f09f-43fc-f221-336df4d0722c"
      },
      "execution_count": 37,
      "outputs": [
        {
          "output_type": "stream",
          "name": "stdout",
          "text": [
            "초를 입력하세요 >>>3690\n",
            "변환 결과는 1시간1분30초 입니다.\n"
          ]
        }
      ]
    },
    {
      "cell_type": "code",
      "source": [
        "# 3\n",
        "no = int(input('4자리 사원번호를 입력하세요 >>>'))\n",
        "\n",
        "no_1 = no % 10\n",
        "\n",
        "if no_1 >= 5:\n",
        "  print('근무시간은 오전입니다.')\n",
        "else:\n",
        "  print('근무시간은 오후입니다.')"
      ],
      "metadata": {
        "colab": {
          "base_uri": "https://localhost:8080/"
        },
        "id": "UDhRZoDJL3Uo",
        "outputId": "d23b54bb-78d4-463e-ae38-a7ffc21f2a6a"
      },
      "execution_count": 40,
      "outputs": [
        {
          "output_type": "stream",
          "name": "stdout",
          "text": [
            "4자리 사원번호를 입력하세요 >>>1255\n",
            "근무시간은 오전입니다.\n"
          ]
        }
      ]
    },
    {
      "cell_type": "code",
      "source": [
        "# 조건문 IF\n",
        "# 조건문은 특정 조건을 만족하는지의 여부에 따라 실행되는 코드가 달라져야 할때 사용\n",
        "\n",
        "a= 0\n",
        "\n",
        "if a > 0:\n",
        "  print('양수')"
      ],
      "metadata": {
        "id": "KT2pT9rsPUf6"
      },
      "execution_count": 42,
      "outputs": []
    }
  ]
}