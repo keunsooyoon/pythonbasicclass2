{
  "nbformat": 4,
  "nbformat_minor": 0,
  "metadata": {
    "colab": {
      "name": "Python Basic Day3.ipynb",
      "provenance": [],
      "authorship_tag": "ABX9TyPrvJa0okgHhJ/3fAOQxJIS",
      "include_colab_link": true
    },
    "kernelspec": {
      "name": "python3",
      "display_name": "Python 3"
    },
    "language_info": {
      "name": "python"
    }
  },
  "cells": [
    {
      "cell_type": "markdown",
      "metadata": {
        "id": "view-in-github",
        "colab_type": "text"
      },
      "source": [
        "<a href=\"https://colab.research.google.com/github/keunsooyoon/pythonbasicclass2/blob/main/Python_Basic_Day3.ipynb\" target=\"_parent\"><img src=\"https://colab.research.google.com/assets/colab-badge.svg\" alt=\"Open In Colab\"/></a>"
      ]
    },
    {
      "cell_type": "code",
      "execution_count": null,
      "metadata": {
        "id": "cZgd36z5SGFw"
      },
      "outputs": [],
      "source": [
        "# list tuple dict set\n",
        "\n",
        "# list    []  indexing/slicing    mutable(del,ins)   [1]\n",
        "# tuple   ()  indexing/slicing    immutable          (1,)\n",
        "# dict    {}      X (unordered)   mutable(del,ins)   {'key':'value'}\n",
        "# set     {}      X (unordered)   mutable(del,ins)   {1,2,3}\n",
        "\n"
      ]
    },
    {
      "cell_type": "code",
      "source": [
        "# 1\n",
        "no = '31025'\n",
        "a = no[0]  # indexing\n",
        "b = no[1:3]# slicing\n",
        "c = no[3:] # slicing\n",
        "\n",
        "print(a ,'학년',b,'반',c,'번')\n",
        "print(f'{a} 학년 {b} 반 {c} 번')   # f 스트링"
      ],
      "metadata": {
        "colab": {
          "base_uri": "https://localhost:8080/"
        },
        "id": "cobPVuNSUMUB",
        "outputId": "d902bf02-3c82-45cc-bfa3-f1ff409adb89"
      },
      "execution_count": null,
      "outputs": [
        {
          "output_type": "stream",
          "name": "stdout",
          "text": [
            "3 학년 10 반 25 번\n",
            "3 학년 10 반 25 번\n"
          ]
        }
      ]
    },
    {
      "cell_type": "code",
      "source": [
        "# 2\n",
        "no = '서울2가1234'  # 10가1234 , 288가1234\n",
        "no4 = no[-4:]\n",
        "print(no,'의 차량번호 4자리는', no4, '입니다.')\n",
        "print(f'{no} 의 차량번호 4자리는 {no4} 입니다.')"
      ],
      "metadata": {
        "id": "S8PVtCZnYxTj",
        "colab": {
          "base_uri": "https://localhost:8080/"
        },
        "outputId": "7be96c33-1c6f-4bc6-aa9a-eee8262ff4c1"
      },
      "execution_count": 9,
      "outputs": [
        {
          "output_type": "stream",
          "name": "stdout",
          "text": [
            "서울2가1234 의 차량번호 4자리는 1234 입니다.\n",
            "서울2가1234 의 차량번호 4자리는 1234 입니다.\n"
          ]
        }
      ]
    },
    {
      "cell_type": "code",
      "source": [
        "# 3 \n",
        "s = 'maple'  #가운데 p출력\n",
        "center = s[len(s) // 2] # // 나머지를 버리고 몫만 취한다 \n",
        "                     #  % 몫은 버리고 나머지만 취한다 (홀/짝/배)\n",
        "print(s,'의 가운데 글자는',center,'입니다')\n",
        "print(f'{s} 의 가운데 글자는 {center} 입니다')\n"
      ],
      "metadata": {
        "colab": {
          "base_uri": "https://localhost:8080/"
        },
        "id": "gwu-0D7ZatGU",
        "outputId": "cedc6eb6-4279-4044-e2ca-164228a45cbb"
      },
      "execution_count": 21,
      "outputs": [
        {
          "output_type": "stream",
          "name": "stdout",
          "text": [
            "maple 의 가운데 글자는 p 입니다\n",
            "maple 의 가운데 글자는 p 입니다\n"
          ]
        }
      ]
    },
    {
      "cell_type": "code",
      "source": [
        "# 4\n",
        "li1 = [10,20,30,40,50,60,70,80,90,100]\n",
        "\n",
        "print('3번째 요소부터 7번째 요소 = ',li1[2:7])\n",
        "print('3번째 요소부터 7번째 요소 중 2번째 요소 = ',li1[2:7][1])"
      ],
      "metadata": {
        "colab": {
          "base_uri": "https://localhost:8080/"
        },
        "id": "MgXeVSEafUgl",
        "outputId": "749dbbb9-1959-4889-f7ce-5cf4a2017d39"
      },
      "execution_count": 24,
      "outputs": [
        {
          "output_type": "stream",
          "name": "stdout",
          "text": [
            "3번째 요소부터 7번째 요소 =  [30, 40, 50, 60, 70]\n",
            "3번째 요소부터 7번째 요소 중 2번째 요소 =  40\n"
          ]
        }
      ]
    },
    {
      "cell_type": "code",
      "source": [
        "# 5 \n",
        "dict = {'금요일':'탕수육',\n",
        "        '토요일':'유산슬',\n",
        "        '일요일':'팔보채'}\n",
        "\n",
        "print('금요일 :',dict['금요일'])\n",
        "print('토요일 :',dict['토요일'])\n",
        "print('일요일 :',dict['일요일'])"
      ],
      "metadata": {
        "colab": {
          "base_uri": "https://localhost:8080/"
        },
        "id": "3ncSLZucgwLu",
        "outputId": "b92bbe28-3870-405e-b64f-3a6388c538bb"
      },
      "execution_count": 27,
      "outputs": [
        {
          "output_type": "stream",
          "name": "stdout",
          "text": [
            "금요일 : 탕수육\n",
            "토요일 : 유산슬\n",
            "일요일 : 팔보채\n"
          ]
        }
      ]
    },
    {
      "cell_type": "code",
      "source": [
        "# \\  따옴표의 기능을 무력화시키고 글자로 표현\n",
        "# \\n 줄바꿈  line feed\n",
        "# \\t 탭      tab\n",
        "\n",
        "print('Hello \\'World\\'')\n",
        "print(\"Hello 'World'\")\n",
        "\n",
        "print(\"Hello \\\"World\\\"\")\n",
        "print('Hello \"World\"')\n",
        "\n",
        "print('*\\n**\\n***')  \n",
        "\n",
        "print('Hello\\nWorld')\n",
        "\n",
        "print('이름\\t연락처')\n",
        "print('제시카\\t01-123-4567')\n",
        "print('마틴\\t010-6789-7890')"
      ],
      "metadata": {
        "colab": {
          "base_uri": "https://localhost:8080/"
        },
        "id": "lUnTo4q8iVxE",
        "outputId": "69c2370a-a1fa-4637-a23b-a2936b05b933"
      },
      "execution_count": 36,
      "outputs": [
        {
          "output_type": "stream",
          "name": "stdout",
          "text": [
            "Hello 'World'\n",
            "Hello 'World'\n",
            "Hello \"World\"\n",
            "Hello \"World\"\n",
            "*\n",
            "**\n",
            "***\n",
            "Hello\n",
            "World\n",
            "이름\t연락처\n",
            "제시카\t01-123-4567\n",
            "마틴\t010-6789-7890\n"
          ]
        }
      ]
    },
    {
      "cell_type": "code",
      "source": [
        "# print() 함수\n",
        "\n",
        "print('재미있는','파이썬')\n",
        "print('재미있는','파이썬', sep=',') # 구분자\n",
        "print('재미있는','파이썬', sep='/')\n",
        "print('재미있는','파이썬', sep=':')"
      ],
      "metadata": {
        "colab": {
          "base_uri": "https://localhost:8080/"
        },
        "id": "yjq51jn5lOid",
        "outputId": "2aa22e47-2123-469f-8cd1-489900aa4822"
      },
      "execution_count": 40,
      "outputs": [
        {
          "output_type": "stream",
          "name": "stdout",
          "text": [
            "재미있는 파이썬\n",
            "재미있는,파이썬\n",
            "재미있는/파이썬\n",
            "재미있는:파이썬\n"
          ]
        }
      ]
    },
    {
      "cell_type": "code",
      "source": [
        "print('영화 타이타닉')\n",
        "print('평점', end=' ')\n",
        "print('5점')"
      ],
      "metadata": {
        "colab": {
          "base_uri": "https://localhost:8080/"
        },
        "id": "YGgmvIwGmNux",
        "outputId": "72eadeb4-3810-4343-cb57-1213a0fe417e"
      },
      "execution_count": 45,
      "outputs": [
        {
          "output_type": "stream",
          "name": "stdout",
          "text": [
            "영화 타이타닉\n",
            "평점 5점\n"
          ]
        }
      ]
    },
    {
      "cell_type": "code",
      "source": [
        "# % 연산자  (비추)\n",
        "\n",
        "print('%d' % 11)   # %d 정수 10진수 자리표시자 decimal\n",
        "print('%o' % 10)   # %o 정수 8진수 자리표시자 octal\n",
        "print('%x' % 10)   # %x 정수 16진수 자리표시자 hexa\n",
        "print('%f' % 3.14)\n",
        "\n",
        "print('%s' % 'python')\n",
        "print('%s' % 3.14)"
      ],
      "metadata": {
        "colab": {
          "base_uri": "https://localhost:8080/"
        },
        "id": "7ZNZhygFodKS",
        "outputId": "f37b2b3c-1602-4ebe-8648-3a01cdc35c8d"
      },
      "execution_count": 55,
      "outputs": [
        {
          "output_type": "stream",
          "name": "stdout",
          "text": [
            "11\n",
            "12\n",
            "a\n",
            "3.140000\n",
            "python\n",
            "3.14\n"
          ]
        }
      ]
    },
    {
      "cell_type": "code",
      "source": [
        "print('%d' % 1)\n",
        "print('%5d' % 1) #다섯칸을 확보하고 오른쪽에 출력\n",
        "print('%5d' % 11) #다섯칸을 확보하고 오른쪽부터 출력"
      ],
      "metadata": {
        "colab": {
          "base_uri": "https://localhost:8080/"
        },
        "id": "cli_Ojq2tPLa",
        "outputId": "d3881af7-f85e-4f4a-8cec-697c243d9349"
      },
      "execution_count": 58,
      "outputs": [
        {
          "output_type": "stream",
          "name": "stdout",
          "text": [
            "1\n",
            "    1\n",
            "   11\n"
          ]
        }
      ]
    },
    {
      "cell_type": "code",
      "source": [
        "print('%-5d' % 1) #다섯칸을 확보하고 왼쪽에 출력\n",
        "print('%-5d' % 11) #다섯칸을 확보하고 왼쪽쪽부터 출력"
      ],
      "metadata": {
        "colab": {
          "base_uri": "https://localhost:8080/"
        },
        "id": "L12NUnp7twnZ",
        "outputId": "5c36dd74-d668-4e87-b3df-3ec71859cd83"
      },
      "execution_count": 59,
      "outputs": [
        {
          "output_type": "stream",
          "name": "stdout",
          "text": [
            "1    \n",
            "11   \n"
          ]
        }
      ]
    },
    {
      "cell_type": "code",
      "source": [
        "print('%5.2f' % 3.14) #다섯칸을 확보하고 소수 2자리까지 오른쪽에 실수출력\n",
        "print('%5.1f' % 3.14) #다섯칸을 확보하고 소수 1자리까지 오른쪽에 실수출력\n"
      ],
      "metadata": {
        "colab": {
          "base_uri": "https://localhost:8080/"
        },
        "id": "YMQIvciIt9KT",
        "outputId": "1cc6c168-69b1-417d-95d2-4747b7d4487f"
      },
      "execution_count": 62,
      "outputs": [
        {
          "output_type": "stream",
          "name": "stdout",
          "text": [
            " 3.14\n",
            "  3.1\n"
          ]
        }
      ]
    },
    {
      "cell_type": "code",
      "source": [
        "print('%-5.2f' % 3.14) #다섯칸을 확보하고 소수 2자리까지 왼쪽에 실수출력\n",
        "print('%-5.1f' % 3.14) #다섯칸을 확보하고 소수 1자리까지 왼쪽에 실수출력"
      ],
      "metadata": {
        "colab": {
          "base_uri": "https://localhost:8080/"
        },
        "id": "vZmYnXX2ugBP",
        "outputId": "cd7729e7-f14b-4a04-a54c-cf6883e7b3b4"
      },
      "execution_count": 63,
      "outputs": [
        {
          "output_type": "stream",
          "name": "stdout",
          "text": [
            "3.14 \n",
            "3.1  \n"
          ]
        }
      ]
    },
    {
      "cell_type": "code",
      "source": [
        "print('%.2f' % 3.14) #소수 2자리까지 실수출력\n",
        "print('%.1f' % 3.14) #소수 1자리까지 실수출력"
      ],
      "metadata": {
        "colab": {
          "base_uri": "https://localhost:8080/"
        },
        "id": "DSByZCKAunJG",
        "outputId": "e3490f08-f5c6-4667-a102-df837910c4b2"
      },
      "execution_count": 64,
      "outputs": [
        {
          "output_type": "stream",
          "name": "stdout",
          "text": [
            "3.14\n",
            "3.1\n"
          ]
        }
      ]
    },
    {
      "cell_type": "code",
      "source": [
        "print('%s' % 3.14) #소수 1자리까지 실수출력"
      ],
      "metadata": {
        "colab": {
          "base_uri": "https://localhost:8080/"
        },
        "id": "vXrEYO_VuzrK",
        "outputId": "59cf1a09-6595-406e-9e20-6e7735003a19"
      },
      "execution_count": 65,
      "outputs": [
        {
          "output_type": "stream",
          "name": "stdout",
          "text": [
            "3.14\n"
          ]
        }
      ]
    },
    {
      "cell_type": "code",
      "source": [
        "\n",
        "a='학생'\n",
        "\n",
        "# 기본 출력 방법\n",
        "print(a,'입니다.')\n",
        "\n",
        "# f string 출력 방법\n",
        "print(f'{a} 입니다.')\n",
        "\n",
        "# %  연산자 출력 방법\n",
        "print('%s 입니다.' % a)\n",
        "\n",
        "# format() 출력 방법\n",
        "print('{} 입니다.'.format(a))"
      ],
      "metadata": {
        "colab": {
          "base_uri": "https://localhost:8080/"
        },
        "id": "isq8X8_1u-34",
        "outputId": "9a3485f8-926f-4eab-bb83-a1fc716dc80c"
      },
      "execution_count": 69,
      "outputs": [
        {
          "output_type": "stream",
          "name": "stdout",
          "text": [
            "학생 입니다.\n",
            "학생 입니다.\n",
            "학생 입니다.\n",
            "학생 입니다.\n"
          ]
        }
      ]
    },
    {
      "cell_type": "code",
      "source": [
        "# format() 매서드\n",
        "\n",
        "print('My name is {}'.format('James'))"
      ],
      "metadata": {
        "colab": {
          "base_uri": "https://localhost:8080/"
        },
        "id": "uwM81dM2wWIS",
        "outputId": "f4c214e7-9d53-426d-b67c-bdd6facef64f"
      },
      "execution_count": 71,
      "outputs": [
        {
          "output_type": "stream",
          "name": "stdout",
          "text": [
            "My name is James\n"
          ]
        }
      ]
    },
    {
      "cell_type": "code",
      "source": [
        "print('My name is {0}'.format('James'))"
      ],
      "metadata": {
        "colab": {
          "base_uri": "https://localhost:8080/"
        },
        "id": "BCGo0ufAwqrH",
        "outputId": "23e0286d-ad44-46f8-cd21-1e081084bc10"
      },
      "execution_count": 72,
      "outputs": [
        {
          "output_type": "stream",
          "name": "stdout",
          "text": [
            "My name is James\n"
          ]
        }
      ]
    },
    {
      "cell_type": "code",
      "source": [
        "print('My name is {name}'.format(name='James'))"
      ],
      "metadata": {
        "colab": {
          "base_uri": "https://localhost:8080/"
        },
        "id": "aLvz6F14wzBc",
        "outputId": "7ebc4222-8a58-4ed3-ea79-273c51ad9d31"
      },
      "execution_count": 73,
      "outputs": [
        {
          "output_type": "stream",
          "name": "stdout",
          "text": [
            "My name is James\n"
          ]
        }
      ]
    },
    {
      "cell_type": "code",
      "source": [
        "print('My name is {}. I\\'m {} years old.'.format('James', 20))"
      ],
      "metadata": {
        "colab": {
          "base_uri": "https://localhost:8080/"
        },
        "id": "uAlT-2Xyw__s",
        "outputId": "e9f0de4b-3250-438c-9e75-1e7045477d1a"
      },
      "execution_count": 74,
      "outputs": [
        {
          "output_type": "stream",
          "name": "stdout",
          "text": [
            "My name is James. I'm 20 years old.\n"
          ]
        }
      ]
    },
    {
      "cell_type": "code",
      "source": [
        "print('My name is {1}. I\\'m {0} years old.'.format('James', 20))"
      ],
      "metadata": {
        "colab": {
          "base_uri": "https://localhost:8080/"
        },
        "id": "8fAlYow0xSnE",
        "outputId": "c4a99f59-0fce-4682-daeb-3a9b055bc899"
      },
      "execution_count": 75,
      "outputs": [
        {
          "output_type": "stream",
          "name": "stdout",
          "text": [
            "My name is 20. I'm James years old.\n"
          ]
        }
      ]
    },
    {
      "cell_type": "code",
      "source": [
        "print('My name is {name}. I\\'m {age} years old.'.format(name='James', age=20))"
      ],
      "metadata": {
        "colab": {
          "base_uri": "https://localhost:8080/"
        },
        "id": "mVKvfZmmxg3Y",
        "outputId": "43cbdb84-658d-4ee4-cafe-a6040407deb0"
      },
      "execution_count": 76,
      "outputs": [
        {
          "output_type": "stream",
          "name": "stdout",
          "text": [
            "My name is James. I'm 20 years old.\n"
          ]
        }
      ]
    },
    {
      "cell_type": "code",
      "source": [
        "# f-strings\n",
        "\n",
        "who = 'you'\n",
        "how = 'happy'\n",
        "\n",
        "print(f'{who} make me {how}')"
      ],
      "metadata": {
        "colab": {
          "base_uri": "https://localhost:8080/"
        },
        "id": "iqLFuAk9x6oB",
        "outputId": "587b4127-1213-4125-df2e-3060012997de"
      },
      "execution_count": 78,
      "outputs": [
        {
          "output_type": "stream",
          "name": "stdout",
          "text": [
            "you make me happy\n"
          ]
        }
      ]
    },
    {
      "cell_type": "code",
      "source": [
        "age = 25\n",
        "print(f'내년엔 {age+1}살이 됩니다.')"
      ],
      "metadata": {
        "colab": {
          "base_uri": "https://localhost:8080/"
        },
        "id": "E-mVFYTqykbT",
        "outputId": "1f7f4945-7a78-4ddd-fbca-1a411411b014"
      },
      "execution_count": 79,
      "outputs": [
        {
          "output_type": "stream",
          "name": "stdout",
          "text": [
            "내년엔 26살이 됩니다.\n"
          ]
        }
      ]
    },
    {
      "cell_type": "code",
      "source": [
        "# 표준입력\n",
        "\n",
        "a = input()\n",
        "print(a)"
      ],
      "metadata": {
        "colab": {
          "base_uri": "https://localhost:8080/"
        },
        "id": "Kmy56g3kzANg",
        "outputId": "debba3b0-11da-4ed8-8cfc-c1e30dd3459a"
      },
      "execution_count": 80,
      "outputs": [
        {
          "output_type": "stream",
          "name": "stdout",
          "text": [
            "asd\n",
            "asd\n"
          ]
        }
      ]
    },
    {
      "cell_type": "code",
      "source": [
        "n = input('정수를 입력하세요 : ')\n",
        "print(n)"
      ],
      "metadata": {
        "colab": {
          "base_uri": "https://localhost:8080/"
        },
        "id": "mM6CG7bUzY8T",
        "outputId": "994372ad-4aae-4964-d600-deeb014e24b5"
      },
      "execution_count": 81,
      "outputs": [
        {
          "output_type": "stream",
          "name": "stdout",
          "text": [
            "정수를 입력하세요 : 23\n",
            "23\n"
          ]
        }
      ]
    },
    {
      "cell_type": "code",
      "source": [
        "name = input('이름을 입력하세요 >>> ')\n",
        "age = input('나이를 입력하세요 >>> ')\n",
        "\n",
        "print('입력된 이름은 {}입니다.'.format(name))\n",
        "print('입력된 나이는 {}입니다.'.format(age))\n",
        "\n",
        "print('입력된 이름은 %s입니다.' % name)\n",
        "print('입력된 나이는 %s입니다.' % age)\n",
        "\n",
        "print(f'입력된 이름은 {name}입니다.')\n",
        "print(f'입력된 나이는 {age}입니다.')\n",
        "\n",
        "print('입력된 이름은',name,'입니다.')\n",
        "print('입력된 나이는',age, '입니다.')"
      ],
      "metadata": {
        "colab": {
          "base_uri": "https://localhost:8080/"
        },
        "id": "AKVM5kLg0z68",
        "outputId": "e7284db0-3a8b-4e8d-f3d1-f48d5dce8c1c"
      },
      "execution_count": 85,
      "outputs": [
        {
          "output_type": "stream",
          "name": "stdout",
          "text": [
            "이름을 입력하세요 >>> 홍길동\n",
            "나이를 입력하세요 >>> 20\n",
            "입력된 이름은 홍길동입니다.\n",
            "입력된 나이는 20입니다.\n",
            "입력된 이름은 홍길동입니다.\n",
            "입력된 나이는 20입니다.\n",
            "입력된 이름은 홍길동입니다.\n",
            "입력된 나이는 20입니다.\n",
            "입력된 이름은 홍길동 입니다.\n",
            "입력된 나이는 20 입니다.\n"
          ]
        }
      ]
    }
  ]
}