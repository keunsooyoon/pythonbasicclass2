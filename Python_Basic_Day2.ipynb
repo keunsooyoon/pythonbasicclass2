{
  "nbformat": 4,
  "nbformat_minor": 0,
  "metadata": {
    "colab": {
      "name": "Python Basic Day2.ipynb",
      "provenance": [],
      "authorship_tag": "ABX9TyMEwkj10x73VUrgPfZvBO+W",
      "include_colab_link": true
    },
    "kernelspec": {
      "name": "python3",
      "display_name": "Python 3"
    },
    "language_info": {
      "name": "python"
    }
  },
  "cells": [
    {
      "cell_type": "markdown",
      "metadata": {
        "id": "view-in-github",
        "colab_type": "text"
      },
      "source": [
        "<a href=\"https://colab.research.google.com/github/keunsooyoon/pythonbasicclass2/blob/main/Python_Basic_Day2.ipynb\" target=\"_parent\"><img src=\"https://colab.research.google.com/assets/colab-badge.svg\" alt=\"Open In Colab\"/></a>"
      ]
    },
    {
      "cell_type": "code",
      "source": [
        "# 3 기본 자료형 (page 33)\n",
        "\n",
        "int 정수  1,2,3,4\n",
        "float 실수 3.14, 2.18\n",
        "bool 논리  True, False\n",
        "str  문자열 '홍길동','슈가'"
      ],
      "metadata": {
        "id": "id-iskWJ9VDN"
      },
      "execution_count": null,
      "outputs": []
    },
    {
      "cell_type": "code",
      "source": [
        "# 1.  정수 int\n",
        "\n",
        "int(1.9)"
      ],
      "metadata": {
        "colab": {
          "base_uri": "https://localhost:8080/"
        },
        "id": "p209OKD3AMcR",
        "outputId": "2a2d53a9-b3ef-4418-a584-cef13c3d40c5"
      },
      "execution_count": 2,
      "outputs": [
        {
          "output_type": "execute_result",
          "data": {
            "text/plain": [
              "1"
            ]
          },
          "metadata": {},
          "execution_count": 2
        }
      ]
    },
    {
      "cell_type": "code",
      "source": [
        "int(True)"
      ],
      "metadata": {
        "colab": {
          "base_uri": "https://localhost:8080/"
        },
        "id": "N-O6ckiwBBnq",
        "outputId": "67714db9-a527-4d96-cac4-3e0460469d7a"
      },
      "execution_count": 3,
      "outputs": [
        {
          "output_type": "execute_result",
          "data": {
            "text/plain": [
              "1"
            ]
          },
          "metadata": {},
          "execution_count": 3
        }
      ]
    },
    {
      "cell_type": "code",
      "source": [
        "int(False)"
      ],
      "metadata": {
        "colab": {
          "base_uri": "https://localhost:8080/"
        },
        "id": "8ZL7ue6gBJWp",
        "outputId": "90b3de73-fc6e-4091-e1ea-81dadad0e0b0"
      },
      "execution_count": 4,
      "outputs": [
        {
          "output_type": "execute_result",
          "data": {
            "text/plain": [
              "0"
            ]
          },
          "metadata": {},
          "execution_count": 4
        }
      ]
    },
    {
      "cell_type": "code",
      "source": [
        "int('100')  \n",
        "int(\"200\")\n",
        "# 큰 따옴표 또는 작은 따옴표 안에 있는 숫자는 숫자처럼 보이지만 문자다\n",
        "# int() 괄호안에 숫자 처럼 보이는 문자를 넣어주면 진짜 숫자로 변환된다. "
      ],
      "metadata": {
        "colab": {
          "base_uri": "https://localhost:8080/"
        },
        "id": "vtPST5XmDWTV",
        "outputId": "9b97e2bb-83f4-4a4a-a54f-ea5636d550dc"
      },
      "execution_count": 5,
      "outputs": [
        {
          "output_type": "execute_result",
          "data": {
            "text/plain": [
              "100"
            ]
          },
          "metadata": {},
          "execution_count": 5
        }
      ]
    },
    {
      "cell_type": "code",
      "source": [
        ""
      ],
      "metadata": {
        "id": "wPdK3NE4IfIO"
      },
      "execution_count": null,
      "outputs": []
    },
    {
      "cell_type": "code",
      "source": [
        "# 2. 실수 float\n",
        "float(1)"
      ],
      "metadata": {
        "colab": {
          "base_uri": "https://localhost:8080/"
        },
        "id": "IaBuHpl_D21G",
        "outputId": "30488504-0399-46df-dbc3-b42035557f28"
      },
      "execution_count": 6,
      "outputs": [
        {
          "output_type": "execute_result",
          "data": {
            "text/plain": [
              "1.0"
            ]
          },
          "metadata": {},
          "execution_count": 6
        }
      ]
    },
    {
      "cell_type": "code",
      "source": [
        "float(True)"
      ],
      "metadata": {
        "colab": {
          "base_uri": "https://localhost:8080/"
        },
        "id": "XiWHva7BEkNB",
        "outputId": "d1d269f5-8421-477a-8845-7271a6f91550"
      },
      "execution_count": 7,
      "outputs": [
        {
          "output_type": "execute_result",
          "data": {
            "text/plain": [
              "1.0"
            ]
          },
          "metadata": {},
          "execution_count": 7
        }
      ]
    },
    {
      "cell_type": "code",
      "source": [
        "float(False)"
      ],
      "metadata": {
        "colab": {
          "base_uri": "https://localhost:8080/"
        },
        "id": "Op_2qCvZEs_k",
        "outputId": "15776b37-6e4f-4546-aa69-349e504b3fe0"
      },
      "execution_count": 8,
      "outputs": [
        {
          "output_type": "execute_result",
          "data": {
            "text/plain": [
              "0.0"
            ]
          },
          "metadata": {},
          "execution_count": 8
        }
      ]
    },
    {
      "cell_type": "code",
      "source": [
        "float('3.14')"
      ],
      "metadata": {
        "colab": {
          "base_uri": "https://localhost:8080/"
        },
        "id": "i9X1WWe4ExBv",
        "outputId": "5d7b130a-4e25-4c77-d85b-a98252c41eaf"
      },
      "execution_count": 9,
      "outputs": [
        {
          "output_type": "execute_result",
          "data": {
            "text/plain": [
              "3.14"
            ]
          },
          "metadata": {},
          "execution_count": 9
        }
      ]
    },
    {
      "cell_type": "code",
      "source": [
        "# 논리 bool, boolean True or False\n",
        "\n",
        "bool(0)"
      ],
      "metadata": {
        "colab": {
          "base_uri": "https://localhost:8080/"
        },
        "id": "Fx7rMeGvF1Zh",
        "outputId": "46b51516-5863-4fe9-c652-bb4515342b02"
      },
      "execution_count": 12,
      "outputs": [
        {
          "output_type": "execute_result",
          "data": {
            "text/plain": [
              "False"
            ]
          },
          "metadata": {},
          "execution_count": 12
        }
      ]
    },
    {
      "cell_type": "code",
      "source": [
        "bool(3)"
      ],
      "metadata": {
        "colab": {
          "base_uri": "https://localhost:8080/"
        },
        "id": "9r8h2uqKGJan",
        "outputId": "bd986c13-036a-4284-9d1f-a29077bd8ec1"
      },
      "execution_count": 20,
      "outputs": [
        {
          "output_type": "execute_result",
          "data": {
            "text/plain": [
              "True"
            ]
          },
          "metadata": {},
          "execution_count": 20
        }
      ]
    },
    {
      "cell_type": "code",
      "source": [
        "bool('')"
      ],
      "metadata": {
        "colab": {
          "base_uri": "https://localhost:8080/"
        },
        "id": "UGQpBbq5GMju",
        "outputId": "a6459d79-3f9a-45d7-9e3a-7a73931fcd5a"
      },
      "execution_count": 14,
      "outputs": [
        {
          "output_type": "execute_result",
          "data": {
            "text/plain": [
              "False"
            ]
          },
          "metadata": {},
          "execution_count": 14
        }
      ]
    },
    {
      "cell_type": "code",
      "source": [
        "bool('1')"
      ],
      "metadata": {
        "colab": {
          "base_uri": "https://localhost:8080/"
        },
        "id": "wkUngLb_GRbf",
        "outputId": "c6e06b2b-2fe7-444f-fe15-a828997eaff0"
      },
      "execution_count": 16,
      "outputs": [
        {
          "output_type": "execute_result",
          "data": {
            "text/plain": [
              "True"
            ]
          },
          "metadata": {},
          "execution_count": 16
        }
      ]
    },
    {
      "cell_type": "code",
      "source": [
        "bool([1,2,3])"
      ],
      "metadata": {
        "colab": {
          "base_uri": "https://localhost:8080/"
        },
        "id": "yghH8RDLGaY-",
        "outputId": "3438d670-a13b-492d-a3bd-4e3c90140079"
      },
      "execution_count": 18,
      "outputs": [
        {
          "output_type": "execute_result",
          "data": {
            "text/plain": [
              "True"
            ]
          },
          "metadata": {},
          "execution_count": 18
        }
      ]
    },
    {
      "cell_type": "code",
      "source": [
        "# 4  문자열 str, string\n",
        "\n",
        "a = '대한\\n민국'\n",
        "print(a)\n",
        "b = \"한국\"\n",
        "\n",
        "a = '''대한\n",
        "민국'''\n",
        "b = \"\"\"대한\n",
        "민국\"\"\"\n",
        "\n",
        "print(a)"
      ],
      "metadata": {
        "colab": {
          "base_uri": "https://localhost:8080/"
        },
        "id": "ZyoTdpRFGw7o",
        "outputId": "a4ed473f-b749-44a2-903a-5399bb02d7f5"
      },
      "execution_count": 24,
      "outputs": [
        {
          "output_type": "stream",
          "name": "stdout",
          "text": [
            "대한\n",
            "민국\n",
            "대한\n",
            "민국\n"
          ]
        }
      ]
    },
    {
      "cell_type": "code",
      "source": [
        "str(100)"
      ],
      "metadata": {
        "colab": {
          "base_uri": "https://localhost:8080/",
          "height": 35
        },
        "id": "h6GuBM83H98O",
        "outputId": "361c600b-37c3-4412-ce7f-e2e2dde62612"
      },
      "execution_count": 25,
      "outputs": [
        {
          "output_type": "execute_result",
          "data": {
            "application/vnd.google.colaboratory.intrinsic+json": {
              "type": "string"
            },
            "text/plain": [
              "'100'"
            ]
          },
          "metadata": {},
          "execution_count": 25
        }
      ]
    },
    {
      "cell_type": "code",
      "source": [
        "str(True)"
      ],
      "metadata": {
        "colab": {
          "base_uri": "https://localhost:8080/",
          "height": 35
        },
        "id": "I6Fs85YoIG2i",
        "outputId": "9eb78954-7774-4340-e061-fba1ba5cfc7c"
      },
      "execution_count": 26,
      "outputs": [
        {
          "output_type": "execute_result",
          "data": {
            "application/vnd.google.colaboratory.intrinsic+json": {
              "type": "string"
            },
            "text/plain": [
              "'True'"
            ]
          },
          "metadata": {},
          "execution_count": 26
        }
      ]
    },
    {
      "cell_type": "code",
      "source": [
        "str(False)"
      ],
      "metadata": {
        "colab": {
          "base_uri": "https://localhost:8080/",
          "height": 35
        },
        "id": "1rn8iKznIMze",
        "outputId": "ab07f347-a306-43d7-e638-934adfcb2154"
      },
      "execution_count": 27,
      "outputs": [
        {
          "output_type": "execute_result",
          "data": {
            "application/vnd.google.colaboratory.intrinsic+json": {
              "type": "string"
            },
            "text/plain": [
              "'False'"
            ]
          },
          "metadata": {},
          "execution_count": 27
        }
      ]
    },
    {
      "cell_type": "code",
      "source": [
        "str(3.14)"
      ],
      "metadata": {
        "colab": {
          "base_uri": "https://localhost:8080/",
          "height": 35
        },
        "id": "EH7zjpdrIQvl",
        "outputId": "b8f34308-80b5-47c3-b42a-c6e959a5ae78"
      },
      "execution_count": 28,
      "outputs": [
        {
          "output_type": "execute_result",
          "data": {
            "application/vnd.google.colaboratory.intrinsic+json": {
              "type": "string"
            },
            "text/plain": [
              "'3.14'"
            ]
          },
          "metadata": {},
          "execution_count": 28
        }
      ]
    },
    {
      "cell_type": "code",
      "source": [
        "# 문자열 인덱싱 (indexing)\n",
        "# 인덱싱은 문자열을 구성하는 모든 문자에 부여한 고유의 번호이다. \n",
        "\n",
        "s = 'hello'\n",
        "print(s[4])   # 인덱스의 시작은 0이다. \n",
        "# h e l l o\n",
        "# 0 1 2 3 4  각 문자의 인덱스 번호\n",
        "\n"
      ],
      "metadata": {
        "colab": {
          "base_uri": "https://localhost:8080/"
        },
        "id": "B1O9ht3DIgh2",
        "outputId": "37e2d439-42ea-4120-f828-27d730d33db1"
      },
      "execution_count": 31,
      "outputs": [
        {
          "output_type": "stream",
          "name": "stdout",
          "text": [
            "o\n"
          ]
        }
      ]
    },
    {
      "cell_type": "code",
      "source": [
        "# h e l l o\n",
        "#        -1\n",
        "s = 'hello'\n",
        "print(s[-1]) "
      ],
      "metadata": {
        "colab": {
          "base_uri": "https://localhost:8080/"
        },
        "id": "tkyKqU4JJ16E",
        "outputId": "37f63fe6-2557-4a78-8c87-51a1e6e64048"
      },
      "execution_count": 32,
      "outputs": [
        {
          "output_type": "stream",
          "name": "stdout",
          "text": [
            "o\n"
          ]
        }
      ]
    },
    {
      "cell_type": "code",
      "source": [
        "#  h  e  l  l  o\n",
        "# -5 -4 -3 -2 -1"
      ],
      "metadata": {
        "id": "OxBPj9x5OPwI"
      },
      "execution_count": null,
      "outputs": []
    },
    {
      "cell_type": "code",
      "source": [
        "# 문자열 스라이싱 slicing\n",
        "# 문자열의 인덱스를 사용하여 한문자 이상으로 구성된 단어나 문장을 추출\n",
        "\n",
        "s = 'banana'\n",
        "s[0:3]   # [start:stop]   # stop 은 까지가 아닌 미만으로 계산한다."
      ],
      "metadata": {
        "colab": {
          "base_uri": "https://localhost:8080/",
          "height": 35
        },
        "id": "No80Mo7OOkoi",
        "outputId": "c27af472-7b1c-41c1-b0e3-d154b0168985"
      },
      "execution_count": 33,
      "outputs": [
        {
          "output_type": "execute_result",
          "data": {
            "application/vnd.google.colaboratory.intrinsic+json": {
              "type": "string"
            },
            "text/plain": [
              "'ban'"
            ]
          },
          "metadata": {},
          "execution_count": 33
        }
      ]
    },
    {
      "cell_type": "code",
      "source": [
        "addr = '서울시 강남구 역삼동 1번지'\n",
        "print(addr[4:7])"
      ],
      "metadata": {
        "colab": {
          "base_uri": "https://localhost:8080/"
        },
        "id": "OLgcZJU6PQh4",
        "outputId": "165f42d2-2831-402f-82b3-788fdba9b80f"
      },
      "execution_count": 35,
      "outputs": [
        {
          "output_type": "stream",
          "name": "stdout",
          "text": [
            "강남구\n"
          ]
        }
      ]
    },
    {
      "cell_type": "code",
      "source": [
        "# 04 컬렉션  Collection \n",
        "# '여러 값을 하나의 이름으로 묶어서 관리하는 자료형'\n",
        "# 리스트 list 튜플 tuple 딕셔너리 dict 셋 set"
      ],
      "metadata": {
        "id": "ATHr_niUQQh9"
      },
      "execution_count": null,
      "outputs": []
    },
    {
      "cell_type": "code",
      "source": [
        "# 리스트 list \n",
        "# 리스트는 여러 값을 저장할때 가장 많이 사용되는 자료형이다. \n",
        "# 특징\n",
        "# 1. 대괄호로 생성한다. []\n",
        "# 2. 여러가지 자료형을 하나의 리스트로 생성할 수 있다. (?)\n",
        "# 3. mutable 한 속성을 갖는다. (수정,삭제가 가능하다.)\n",
        "# 4. indexing , slicing 이 가능하다. \n",
        "\n"
      ],
      "metadata": {
        "id": "e9SOxA_wRD_c"
      },
      "execution_count": null,
      "outputs": []
    },
    {
      "cell_type": "code",
      "source": [
        ""
      ],
      "metadata": {
        "id": "EOShPI90TcU6"
      },
      "execution_count": null,
      "outputs": []
    },
    {
      "cell_type": "code",
      "source": [
        "list1 = [1,2,3,4]\n",
        "list2 = [1,2,3,'대','한',True]"
      ],
      "metadata": {
        "id": "vzolFbaaRUIR"
      },
      "execution_count": 38,
      "outputs": []
    },
    {
      "cell_type": "code",
      "source": [
        "li = [100, 3.14,'hello']\n",
        "\n",
        "li[2]"
      ],
      "metadata": {
        "colab": {
          "base_uri": "https://localhost:8080/",
          "height": 35
        },
        "id": "Dxq8XFSJT_tc",
        "outputId": "fb15bcec-4119-4297-e76d-f98cb44eb9a4"
      },
      "execution_count": 42,
      "outputs": [
        {
          "output_type": "execute_result",
          "data": {
            "application/vnd.google.colaboratory.intrinsic+json": {
              "type": "string"
            },
            "text/plain": [
              "'hello'"
            ]
          },
          "metadata": {},
          "execution_count": 42
        }
      ]
    },
    {
      "cell_type": "code",
      "source": [
        "li[:] # [start:stop(미만)]"
      ],
      "metadata": {
        "colab": {
          "base_uri": "https://localhost:8080/"
        },
        "id": "t6hMOlDiUcB6",
        "outputId": "dc0c55ee-9530-4f0a-ad6c-ef2d5479f353"
      },
      "execution_count": 46,
      "outputs": [
        {
          "output_type": "execute_result",
          "data": {
            "text/plain": [
              "[100, 3.14, 'hello']"
            ]
          },
          "metadata": {},
          "execution_count": 46
        }
      ]
    },
    {
      "cell_type": "code",
      "source": [
        "# append() - 리스트에 데이터를 추가\n",
        "scores = [50,40,30]\n",
        "scores.append(100)  # 값을 추가할때 사용하는 () 소괄호\n",
        "scores"
      ],
      "metadata": {
        "id": "--38smvgVWa1"
      },
      "execution_count": 48,
      "outputs": []
    },
    {
      "cell_type": "code",
      "source": [
        "# insert() - 리스트에 데이터를 추가\n",
        "scores.insert(0,90) # 특정위치에 데이터를 추가\n",
        "scores"
      ],
      "metadata": {
        "colab": {
          "base_uri": "https://localhost:8080/"
        },
        "id": "XNq1kPbgW3vK",
        "outputId": "c1756ecf-a52b-4d01-c239-ca5594a4c0eb"
      },
      "execution_count": 49,
      "outputs": [
        {
          "output_type": "execute_result",
          "data": {
            "text/plain": [
              "[90, 50, 40, 30, 100]"
            ]
          },
          "metadata": {},
          "execution_count": 49
        }
      ]
    },
    {
      "cell_type": "code",
      "source": [
        "# pop() - 리스트에서 데이터 삭제\n",
        "scores = [50,40,30]\n",
        "scores.pop()  # pop() 괄호안에 생략하면 마지막 값을 삭제\n",
        "scores"
      ],
      "metadata": {
        "colab": {
          "base_uri": "https://localhost:8080/"
        },
        "id": "tDoZSGFiXQXw",
        "outputId": "180df4c5-7882-481d-cbe7-8c653ae7112f"
      },
      "execution_count": 53,
      "outputs": [
        {
          "output_type": "execute_result",
          "data": {
            "text/plain": [
              "[50, 40]"
            ]
          },
          "metadata": {},
          "execution_count": 53
        }
      ]
    },
    {
      "cell_type": "code",
      "source": [
        "scores.pop(0)\n",
        "scores"
      ],
      "metadata": {
        "colab": {
          "base_uri": "https://localhost:8080/"
        },
        "id": "oPTZpS5aaPDm",
        "outputId": "e7ce45e5-abb4-4410-e85b-9b50bc8df7ce"
      },
      "execution_count": 54,
      "outputs": [
        {
          "output_type": "execute_result",
          "data": {
            "text/plain": [
              "[40]"
            ]
          },
          "metadata": {},
          "execution_count": 54
        }
      ]
    },
    {
      "cell_type": "code",
      "source": [
        "# 튜플 tuple \n",
        "# 저장된 값을 변경할 수 없는 리스트\n",
        "\n",
        "# 특징\n",
        "# 1. 소괄호로 생성한다. ()  튜플은 괄호 생략 가능\n",
        "# 2. 여러가지 자료형을 하나의 튜플로 생성할 수 있다. (?)\n",
        "# 3. immutable 한 속성을 갖는다. (수정,삭제가 불가능하다.)\n",
        "# 4. indexing , slicing 이 가능하다. \n",
        "# 5. 1개의 원소를 갖는 튜플을 생성할때는 , 쉼표를 붙인다. \n",
        "\n",
        "li = [1]\n",
        "print(li)\n",
        "print(type(li))"
      ],
      "metadata": {
        "colab": {
          "base_uri": "https://localhost:8080/"
        },
        "id": "2JcuipfFauQz",
        "outputId": "154c3edb-6c1a-4173-ccc6-147b7f969cb0"
      },
      "execution_count": 56,
      "outputs": [
        {
          "output_type": "stream",
          "name": "stdout",
          "text": [
            "[1]\n",
            "<class 'list'>\n"
          ]
        }
      ]
    },
    {
      "cell_type": "code",
      "source": [
        ""
      ],
      "metadata": {
        "id": "czfnnWwucuSt"
      },
      "execution_count": null,
      "outputs": []
    },
    {
      "cell_type": "code",
      "source": [
        "# tu = (1)\n",
        "# print(tu)\n",
        "# print(type(tu))\n",
        "\n",
        "tu = (1,)\n",
        "print(tu)\n",
        "print(type(tu))"
      ],
      "metadata": {
        "colab": {
          "base_uri": "https://localhost:8080/"
        },
        "id": "K8Xn9vtscPHq",
        "outputId": "487d34ad-ca4b-459e-f05f-1ae561be6ebf"
      },
      "execution_count": 58,
      "outputs": [
        {
          "output_type": "stream",
          "name": "stdout",
          "text": [
            "(1,)\n",
            "<class 'tuple'>\n"
          ]
        }
      ]
    },
    {
      "cell_type": "code",
      "source": [
        "tu = 1,2,3,4,5\n",
        "type(tu)"
      ],
      "metadata": {
        "colab": {
          "base_uri": "https://localhost:8080/"
        },
        "id": "cy7aEE8rcvwL",
        "outputId": "0ae292ab-d6af-4fe2-8ba2-922cff520b46"
      },
      "execution_count": 61,
      "outputs": [
        {
          "output_type": "execute_result",
          "data": {
            "text/plain": [
              "tuple"
            ]
          },
          "metadata": {},
          "execution_count": 61
        }
      ]
    },
    {
      "cell_type": "code",
      "source": [
        "tu.append(6)"
      ],
      "metadata": {
        "colab": {
          "base_uri": "https://localhost:8080/",
          "height": 174
        },
        "id": "vvAqA-33c86v",
        "outputId": "3fecbe23-4e8d-4c8a-af0a-03104f290dc4"
      },
      "execution_count": 62,
      "outputs": [
        {
          "output_type": "error",
          "ename": "AttributeError",
          "evalue": "ignored",
          "traceback": [
            "\u001b[0;31m---------------------------------------------------------------------------\u001b[0m",
            "\u001b[0;31mAttributeError\u001b[0m                            Traceback (most recent call last)",
            "\u001b[0;32m<ipython-input-62-5346a898c5e0>\u001b[0m in \u001b[0;36m<module>\u001b[0;34m()\u001b[0m\n\u001b[0;32m----> 1\u001b[0;31m \u001b[0mtu\u001b[0m\u001b[0;34m.\u001b[0m\u001b[0mappend\u001b[0m\u001b[0;34m(\u001b[0m\u001b[0;36m6\u001b[0m\u001b[0;34m)\u001b[0m\u001b[0;34m\u001b[0m\u001b[0;34m\u001b[0m\u001b[0m\n\u001b[0m",
            "\u001b[0;31mAttributeError\u001b[0m: 'tuple' object has no attribute 'append'"
          ]
        }
      ]
    },
    {
      "cell_type": "code",
      "source": [
        "tu.pop()"
      ],
      "metadata": {
        "colab": {
          "base_uri": "https://localhost:8080/",
          "height": 174
        },
        "id": "NVuykbQ0dDET",
        "outputId": "e9cac266-cfc2-4f94-c2a5-a96ee3b4fe30"
      },
      "execution_count": 63,
      "outputs": [
        {
          "output_type": "error",
          "ename": "AttributeError",
          "evalue": "ignored",
          "traceback": [
            "\u001b[0;31m---------------------------------------------------------------------------\u001b[0m",
            "\u001b[0;31mAttributeError\u001b[0m                            Traceback (most recent call last)",
            "\u001b[0;32m<ipython-input-63-e7fa926581ef>\u001b[0m in \u001b[0;36m<module>\u001b[0;34m()\u001b[0m\n\u001b[0;32m----> 1\u001b[0;31m \u001b[0mtu\u001b[0m\u001b[0;34m.\u001b[0m\u001b[0mpop\u001b[0m\u001b[0;34m(\u001b[0m\u001b[0;34m)\u001b[0m\u001b[0;34m\u001b[0m\u001b[0;34m\u001b[0m\u001b[0m\n\u001b[0m",
            "\u001b[0;31mAttributeError\u001b[0m: 'tuple' object has no attribute 'pop'"
          ]
        }
      ]
    },
    {
      "cell_type": "code",
      "source": [
        "tu = 1,2,3,4,5\n",
        "tu[0]"
      ],
      "metadata": {
        "colab": {
          "base_uri": "https://localhost:8080/"
        },
        "id": "gbrfxebDdXhf",
        "outputId": "4a4f7a3c-7e9c-4d1e-bd28-81ce73df0268"
      },
      "execution_count": 64,
      "outputs": [
        {
          "output_type": "execute_result",
          "data": {
            "text/plain": [
              "1"
            ]
          },
          "metadata": {},
          "execution_count": 64
        }
      ]
    },
    {
      "cell_type": "code",
      "source": [
        "tu[0:3]"
      ],
      "metadata": {
        "colab": {
          "base_uri": "https://localhost:8080/"
        },
        "id": "Rcghb97Sdftn",
        "outputId": "7ce4512f-0d5f-4446-fcd2-a21f8fd109fe"
      },
      "execution_count": 66,
      "outputs": [
        {
          "output_type": "execute_result",
          "data": {
            "text/plain": [
              "(1, 2, 3)"
            ]
          },
          "metadata": {},
          "execution_count": 66
        }
      ]
    },
    {
      "cell_type": "code",
      "source": [
        "# Set  셋\n",
        "\n",
        "# 특징\n",
        "# 1. 중괄호로 생성한다. {} \n",
        "# 2. 여러가지 자료형을 하나의 셋으로 생성할 수 있다. (?)\n",
        "# 3. mutable 한 속성을 갖는다. (수정,삭제가 가능하다.)\n",
        "# 4. indexing , slicing 이 불가능하다. 순서가 없다. \n",
        "# 5. 중복된 데이터를 함께 저장할 수 없다. (중복 불가능)\n",
        "\n",
        "set = {1,1,1,2,2,3}\n",
        "set"
      ],
      "metadata": {
        "colab": {
          "base_uri": "https://localhost:8080/"
        },
        "id": "h8f2PgpzeM0r",
        "outputId": "97eaabf1-b27f-4153-a27d-f23322d8e3bc"
      },
      "execution_count": 68,
      "outputs": [
        {
          "output_type": "execute_result",
          "data": {
            "text/plain": [
              "{1, 2, 3}"
            ]
          },
          "metadata": {},
          "execution_count": 68
        }
      ]
    },
    {
      "cell_type": "code",
      "source": [
        "set.add(4)\n",
        "set"
      ],
      "metadata": {
        "colab": {
          "base_uri": "https://localhost:8080/"
        },
        "id": "JKj5zZbAfqfO",
        "outputId": "ce26667b-98bb-422b-f7cb-6b831b03d421"
      },
      "execution_count": 69,
      "outputs": [
        {
          "output_type": "execute_result",
          "data": {
            "text/plain": [
              "{1, 2, 3, 4}"
            ]
          },
          "metadata": {},
          "execution_count": 69
        }
      ]
    },
    {
      "cell_type": "code",
      "source": [
        "set.remove(3)\n",
        "set"
      ],
      "metadata": {
        "colab": {
          "base_uri": "https://localhost:8080/"
        },
        "id": "_ttBfreOfxwq",
        "outputId": "ed92b299-1da4-466b-b87e-e98fefceb54d"
      },
      "execution_count": 70,
      "outputs": [
        {
          "output_type": "execute_result",
          "data": {
            "text/plain": [
              "{1, 2, 4}"
            ]
          },
          "metadata": {},
          "execution_count": 70
        }
      ]
    },
    {
      "cell_type": "code",
      "source": [
        "# dict 딕셔너리 키값과 밸류값의 쌍으로 데이터를 저장하는 자료형\n",
        "# 자바에서의 map, JS 에서의 json 과 유사한 파이썬의 자료형\n",
        "\n",
        "# 특징\n",
        "# 1. 중괄호로 생성한다. {} \n",
        "# 2. 여러가지 자료형을 하나의 딕셔너리로 생성할 수 있다. (?)\n",
        "# 3. mutable 한 속성을 갖는다. (수정,삭제가 가능하다.)\n",
        "# 4. indexing , slicing 이 불가능하다. 순서가 없다. \n",
        "# 5. 키와 밸류로 구성한다. \n",
        "\n",
        "\n",
        "dict = {'name':'홍길동', 'age': 24}\n",
        "\n",
        "d = {'a':'apple', 'b':'banana'}\n",
        "d['b']\n"
      ],
      "metadata": {
        "colab": {
          "base_uri": "https://localhost:8080/",
          "height": 35
        },
        "id": "6hdvVsUpgLmP",
        "outputId": "37791863-2bfc-4177-8f53-7d03b12b988a"
      },
      "execution_count": 74,
      "outputs": [
        {
          "output_type": "execute_result",
          "data": {
            "application/vnd.google.colaboratory.intrinsic+json": {
              "type": "string"
            },
            "text/plain": [
              "'banana'"
            ]
          },
          "metadata": {},
          "execution_count": 74
        }
      ]
    },
    {
      "cell_type": "code",
      "source": [
        "d['c'] = 'cherry'\n",
        "d"
      ],
      "metadata": {
        "colab": {
          "base_uri": "https://localhost:8080/"
        },
        "id": "MAtxAipKiOFs",
        "outputId": "12f966a5-ce3a-421c-85fa-5ee7a5452032"
      },
      "execution_count": 75,
      "outputs": [
        {
          "output_type": "execute_result",
          "data": {
            "text/plain": [
              "{'a': 'apple', 'b': 'banana', 'c': 'cherry'}"
            ]
          },
          "metadata": {},
          "execution_count": 75
        }
      ]
    },
    {
      "cell_type": "code",
      "source": [
        "d['c'] = '체리'\n",
        "d"
      ],
      "metadata": {
        "colab": {
          "base_uri": "https://localhost:8080/"
        },
        "id": "j8fdT_zfio3l",
        "outputId": "6b34eca4-19c8-419c-84c6-8bf08deeccd5"
      },
      "execution_count": 76,
      "outputs": [
        {
          "output_type": "execute_result",
          "data": {
            "text/plain": [
              "{'a': 'apple', 'b': 'banana', 'c': '체리'}"
            ]
          },
          "metadata": {},
          "execution_count": 76
        }
      ]
    },
    {
      "cell_type": "code",
      "source": [
        "d.pop('c')\n",
        "d"
      ],
      "metadata": {
        "colab": {
          "base_uri": "https://localhost:8080/"
        },
        "id": "gHoFSpP5ix5S",
        "outputId": "c43771d4-252a-4108-83f1-680744e4b507"
      },
      "execution_count": 77,
      "outputs": [
        {
          "output_type": "execute_result",
          "data": {
            "text/plain": [
              "{'a': 'apple', 'b': 'banana'}"
            ]
          },
          "metadata": {},
          "execution_count": 77
        }
      ]
    },
    {
      "cell_type": "code",
      "source": [
        "# mutable : 리스트 셋 딕셔너리\n",
        "# immutable : 튜플 (정수 실수 문자열)\n",
        "\n",
        "me = [1,2,3]\n",
        "id(me)  # 실제 데이터가 저장된 메모리 위치"
      ],
      "metadata": {
        "colab": {
          "base_uri": "https://localhost:8080/"
        },
        "id": "WmWRUtiBjC67",
        "outputId": "f94792e3-8153-4f2a-a7f9-0a4d49aeda34"
      },
      "execution_count": 78,
      "outputs": [
        {
          "output_type": "execute_result",
          "data": {
            "text/plain": [
              "139908623404080"
            ]
          },
          "metadata": {},
          "execution_count": 78
        }
      ]
    },
    {
      "cell_type": "code",
      "source": [
        "me.append(4)\n",
        "id(me)  # 메모리의 실제 주소가 바뀌지 않았다. "
      ],
      "metadata": {
        "colab": {
          "base_uri": "https://localhost:8080/"
        },
        "id": "WVVNikkQjtBb",
        "outputId": "879d7508-6c74-43a9-8c1e-34e163695a7c"
      },
      "execution_count": 79,
      "outputs": [
        {
          "output_type": "execute_result",
          "data": {
            "text/plain": [
              "139908623404080"
            ]
          },
          "metadata": {},
          "execution_count": 79
        }
      ]
    },
    {
      "cell_type": "code",
      "source": [
        "me"
      ],
      "metadata": {
        "colab": {
          "base_uri": "https://localhost:8080/"
        },
        "id": "p6jmEs-ijz5G",
        "outputId": "126268f0-2efb-441d-f636-ee7f354d3753"
      },
      "execution_count": 80,
      "outputs": [
        {
          "output_type": "execute_result",
          "data": {
            "text/plain": [
              "[1, 2, 3, 4]"
            ]
          },
          "metadata": {},
          "execution_count": 80
        }
      ]
    },
    {
      "cell_type": "code",
      "source": [
        "# immutable\n",
        "me = 10\n",
        "id(me)\n"
      ],
      "metadata": {
        "colab": {
          "base_uri": "https://localhost:8080/"
        },
        "id": "08gsYQs5jjxX",
        "outputId": "f8ac31f8-7bb1-43f1-8858-8fd15854387f"
      },
      "execution_count": 83,
      "outputs": [
        {
          "output_type": "execute_result",
          "data": {
            "text/plain": [
              "94045969099552"
            ]
          },
          "metadata": {},
          "execution_count": 83
        }
      ]
    },
    {
      "cell_type": "code",
      "source": [
        "me += 1  # me = me + 1   , (자바)me ++\n",
        "id(me)  # 메모리의 주소가 바뀐것을 확인할 수 있다. \n"
      ],
      "metadata": {
        "colab": {
          "base_uri": "https://localhost:8080/"
        },
        "id": "PyCZp71qkPyF",
        "outputId": "dc38b955-a1c1-4dbe-add1-b878b03cb805"
      },
      "execution_count": 84,
      "outputs": [
        {
          "output_type": "execute_result",
          "data": {
            "text/plain": [
              "94045969099584"
            ]
          },
          "metadata": {},
          "execution_count": 84
        }
      ]
    }
  ]
}